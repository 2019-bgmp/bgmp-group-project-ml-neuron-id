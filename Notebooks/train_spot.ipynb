{
 "cells": [
  {
   "cell_type": "code",
   "execution_count": 1,
   "metadata": {},
   "outputs": [
    {
     "data": {
      "text/plain": [
       "'\\nFile: train_spot.ipynb\\nAuthors: Jared Galloway\\nDate: 1/15/2020\\n\\nThis Jupyter Notebook will exemplify the workflow for simulating \\na dataset of spots with thier respective annotations - \\nthen train a neural network to parse out dots from background noise.\\n\\nFinally, we will import an empirical flurescent microscopy image and\\nPredict on The image before computing the F1 score as a metric of accuracy.\\n\\nThis Workflow is proof of concepy that spots can be simulted \\neasily and accuratly enough to train a convolutional nueral network\\non the task of spot detection for a range of empitical scenerios.\\n'"
      ]
     },
     "execution_count": 1,
     "metadata": {},
     "output_type": "execute_result"
    }
   ],
   "source": [
    "\"\"\"\n",
    "File: train_spot.ipynb\n",
    "Authors: Jared Galloway\n",
    "Date: 1/15/2020\n",
    "\n",
    "This Jupyter Notebook will exemplify the workflow for simulating \n",
    "a dataset of spots with thier respective annotations - \n",
    "then train a neural network to parse out dots from background noise.\n",
    "\n",
    "Finally, we will import an empirical flurescent microscopy image and\n",
    "Predict on The image before computing the F1 score as a metric of accuracy.\n",
    "\n",
    "This Workflow is proof of concepy that spots can be simulted \n",
    "easily and accuratly enough to train a convolutional nueral network\n",
    "on the task of spot detection for a range of empitical scenerios.\n",
    "\"\"\""
   ]
  },
  {
   "cell_type": "code",
   "execution_count": 5,
   "metadata": {},
   "outputs": [],
   "source": [
    "import os\n",
    "import sys\n",
    "\n",
    "# External Dependencies\n",
    "import numpy as np\n",
    "import tensorflow as tf\n",
    "from matplotlib import pyplot as plt\n",
    "%matplotlib inline\n",
    "import time\n",
    "\n",
    "# Internal Dependencies \n",
    "sys.path.insert(0,\"../\")\n",
    "import scripts.networks as nets\n",
    "import scripts.helpers as helpers\n",
    "import scripts.dot_simulator as dot_simulator"
   ]
  },
  {
   "cell_type": "code",
   "execution_count": 7,
   "metadata": {},
   "outputs": [
    {
     "name": "stdout",
     "output_type": "stream",
     "text": [
      "Help on function single_layers_simulator in module scripts.dot_simulator:\n",
      "\n",
      "single_layers_simulator(num_samples=10, width=32, height=32, num_dots_n=5, num_dots_p=0.5, radii_n=3, radii_p=0.85, spot_noise=0.2, point_noise=0.2, background_noise=0.2)\n",
      "    This function will generate single layer \n",
      "    samples of simulated flurescent microscopy images\n",
      "    along with the respective ground truth annotation. \n",
      "    The simulations themselves are defined by:\n",
      "    \n",
      "    :param: width, height <int> - The width and height of the simulated images\n",
      "        defined in number of pixels.\n",
      "    \n",
      "    :param: coloc_thresh <int> - This is a number, either 1, 2, or 3 which \n",
      "        which primarily affects how we annotate the images as being true positives\n",
      "        or negative examples. Concretely, this is the threshold of number of layers\n",
      "        which any dot must colocalize in order to be considered as a synapse.\n",
      "    \n",
      "    :param: num_dots_n, num_dots_p <int> - these parameters define the expected \n",
      "        binomial distribution of dots among all simulated images where n is the number\n",
      "        of trials (bernoulli trial for dot or no dot) and p is the probability of success.\n",
      "        The default is n = 5, and p = 0.5 meaning, on average, we expect 2.5 dots per image.\n",
      "        \n",
      "    :param: radii_n, radii_p <int> - The radii distribution of of dots simulated. n and p\n",
      "        represent the binomial distribution of radii of all simulated dots. NOTE that \n",
      "        we floor the radius size of any one dot to be 2.\n",
      "    \n",
      "    :param: spot_noise <float [0-1]> the variance of the guassian noise added to all dots.\n",
      "    \n",
      "    # TODO Not sure this is necessary\n",
      "    :param: point_noise <float [0-1]> the variance of the guassian noise subtracted from\n",
      "         the center of all dots.\n",
      "    \n",
      "    :param: background_noise <float [0-1]> the variance of the guassian noise added to the\n",
      "        background.\n",
      "\n"
     ]
    }
   ],
   "source": [
    "help(dot_simulator.single_layers_simulator)"
   ]
  },
  {
   "cell_type": "code",
   "execution_count": 17,
   "metadata": {},
   "outputs": [],
   "source": [
    "# The directory to place output files and location of test files\n",
    "EXP_DIR = \"../scripts/L1-D02-z_490_448_64\""
   ]
  },
  {
   "cell_type": "code",
   "execution_count": 10,
   "metadata": {},
   "outputs": [
    {
     "name": "stdout",
     "output_type": "stream",
     "text": [
      "simulated data examples has shape: (1000, 64, 64, 1)\n",
      "simulated data set targets has shape: (1000, 64, 64, 1)\n"
     ]
    }
   ],
   "source": [
    "# Choose Some parameters\n",
    "params = {\"num_samples\":1000,\n",
    "            \"width\":64,\n",
    "            \"height\":64,\n",
    "            \"num_dots_n\": 5,\n",
    "            \"num_dots_p\": 0.85,\n",
    "            \"radii_n\":4,\n",
    "            \"radii_p\":0.65,\n",
    "            \"spot_noise\":0.2,\n",
    "            \"point_noise\":0.2,\n",
    "            \"background_noise\":0.15}\n",
    "\n",
    "# Simulate!\n",
    "x, y = dot_simulator.single_layers_simulator(**params)\n",
    "\n",
    "print(f\"simulated data examples has shape: {x.shape}\")\n",
    "print(f\"simulated data set targets has shape: {y.shape}\")"
   ]
  },
  {
   "cell_type": "code",
   "execution_count": 11,
   "metadata": {},
   "outputs": [
    {
     "data": {
      "text/plain": [
       "<matplotlib.image.AxesImage at 0x2aab38492b38>"
      ]
     },
     "execution_count": 11,
     "metadata": {},
     "output_type": "execute_result"
    },
    {
     "data": {
      "image/png": "[encoded data removed]",
      "text/plain": [
       "<Figure size 1008x792 with 2 Axes>"
      ]
     },
     "metadata": {
      "needs_background": "light"
     },
     "output_type": "display_data"
    }
   ],
   "source": [
    "IMAGE_INDEX = 14\n",
    "fig, ax = plt.subplots(1,2,figsize=(14, 11))\n",
    "ax[0].imshow(np.squeeze(x[IMAGE_INDEX]))\n",
    "ax[1].imshow(np.squeeze(y[IMAGE_INDEX]))"
   ]
  },
  {
   "cell_type": "code",
   "execution_count": 12,
   "metadata": {},
   "outputs": [],
   "source": [
    "# cut data set up into train, validation, and testing.\n",
    "\n",
    "percent_test = 0.1\n",
    "percent_validation = 0.2\n",
    "\n",
    "test_split = int(x.shape[0] * percent_test) \n",
    "vali_split = int(x.shape[0] * percent_validation)\n",
    "\n",
    "test_x = x[:test_split,:,:,:]\n",
    "vali_x = x[test_split:vali_split,:,:,:]\n",
    "train_x = x[vali_split:,:,:,:]\n",
    "\n",
    "test_y = y[:test_split,:,:,:]\n",
    "vali_y = y[test_split:vali_split,:,:,:]\n",
    "train_y = y[vali_split:,:,:,:]"
   ]
  },
  {
   "cell_type": "code",
   "execution_count": 13,
   "metadata": {},
   "outputs": [
    {
     "name": "stdout",
     "output_type": "stream",
     "text": [
      "_________________________________________________________________\n",
      "Layer (type)                 Output Shape              Param #   \n",
      "=================================================================\n",
      "input_1 (InputLayer)         (None, 64, 64, 1)         0         \n",
      "_________________________________________________________________\n",
      "conv2d (Conv2D)              (None, 64, 64, 64)        640       \n",
      "_________________________________________________________________\n",
      "leaky_re_lu (LeakyReLU)      (None, 64, 64, 64)        0         \n",
      "_________________________________________________________________\n",
      "conv2d_1 (Conv2D)            (None, 64, 64, 32)        18464     \n",
      "_________________________________________________________________\n",
      "leaky_re_lu_1 (LeakyReLU)    (None, 64, 64, 32)        0         \n",
      "_________________________________________________________________\n",
      "conv2d_2 (Conv2D)            (None, 64, 64, 1)         289       \n",
      "=================================================================\n",
      "Total params: 19,393\n",
      "Trainable params: 19,393\n",
      "Non-trainable params: 0\n",
      "_________________________________________________________________\n",
      "None\n"
     ]
    }
   ],
   "source": [
    "# choose a model!\n",
    "model = nets.deeper_direct_CNN(x,y)\n",
    "print(model.summary())"
   ]
  },
  {
   "cell_type": "code",
   "execution_count": 15,
   "metadata": {},
   "outputs": [
    {
     "name": "stdout",
     "output_type": "stream",
     "text": [
      "Train on 800 samples, validate on 100 samples\n",
      "Epoch 1/50\n",
      "800/800 [==============================] - 1s 892us/step - loss: 4.1083 - acc: 0.9776 - val_loss: 2.2480 - val_acc: 0.9788\n",
      "Epoch 2/50\n",
      "800/800 [==============================] - 1s 742us/step - loss: 1.1559 - acc: 0.9893 - val_loss: 0.3910 - val_acc: 0.9969\n",
      "Epoch 3/50\n",
      "800/800 [==============================] - 1s 737us/step - loss: 0.2792 - acc: 0.9976 - val_loss: 0.2002 - val_acc: 0.9979\n",
      "Epoch 4/50\n",
      "800/800 [==============================] - 1s 744us/step - loss: 0.1949 - acc: 0.9980 - val_loss: 0.1709 - val_acc: 0.9981\n",
      "Epoch 5/50\n",
      "800/800 [==============================] - 1s 739us/step - loss: 0.1750 - acc: 0.9981 - val_loss: 0.1585 - val_acc: 0.9982\n",
      "Epoch 6/50\n",
      "800/800 [==============================] - 1s 738us/step - loss: 0.1644 - acc: 0.9981 - val_loss: 0.1502 - val_acc: 0.9983\n",
      "Epoch 7/50\n",
      "800/800 [==============================] - 1s 746us/step - loss: 0.1572 - acc: 0.9982 - val_loss: 0.1449 - val_acc: 0.9982\n",
      "Epoch 8/50\n",
      "800/800 [==============================] - 1s 741us/step - loss: 0.1517 - acc: 0.9982 - val_loss: 0.1396 - val_acc: 0.9983\n",
      "Epoch 9/50\n",
      "800/800 [==============================] - 1s 740us/step - loss: 0.1472 - acc: 0.9983 - val_loss: 0.1358 - val_acc: 0.9984\n",
      "Epoch 10/50\n",
      "800/800 [==============================] - 1s 741us/step - loss: 0.1434 - acc: 0.9983 - val_loss: 0.1326 - val_acc: 0.9984\n",
      "Epoch 11/50\n",
      "800/800 [==============================] - 1s 740us/step - loss: 0.1401 - acc: 0.9983 - val_loss: 0.1293 - val_acc: 0.9985\n",
      "Epoch 12/50\n",
      "800/800 [==============================] - 1s 744us/step - loss: 0.1373 - acc: 0.9984 - val_loss: 0.1269 - val_acc: 0.9985\n",
      "Epoch 13/50\n",
      "800/800 [==============================] - 1s 742us/step - loss: 0.1344 - acc: 0.9984 - val_loss: 0.1247 - val_acc: 0.9985\n",
      "Epoch 14/50\n",
      "800/800 [==============================] - 1s 740us/step - loss: 0.1316 - acc: 0.9984 - val_loss: 0.1215 - val_acc: 0.9985\n",
      "Epoch 15/50\n",
      "800/800 [==============================] - 1s 740us/step - loss: 0.1298 - acc: 0.9985 - val_loss: 0.1195 - val_acc: 0.9986\n",
      "Epoch 16/50\n",
      "800/800 [==============================] - 1s 741us/step - loss: 0.1277 - acc: 0.9985 - val_loss: 0.1174 - val_acc: 0.9986\n",
      "Epoch 17/50\n",
      "800/800 [==============================] - 1s 740us/step - loss: 0.1255 - acc: 0.9985 - val_loss: 0.1154 - val_acc: 0.9986\n",
      "Epoch 18/50\n",
      "800/800 [==============================] - 1s 742us/step - loss: 0.1235 - acc: 0.9985 - val_loss: 0.1136 - val_acc: 0.9986\n",
      "Epoch 19/50\n",
      "800/800 [==============================] - 1s 742us/step - loss: 0.1215 - acc: 0.9986 - val_loss: 0.1118 - val_acc: 0.9987\n",
      "Epoch 20/50\n",
      "800/800 [==============================] - 1s 739us/step - loss: 0.1194 - acc: 0.9986 - val_loss: 0.1102 - val_acc: 0.9987\n",
      "Epoch 21/50\n",
      "800/800 [==============================] - 1s 743us/step - loss: 0.1179 - acc: 0.9986 - val_loss: 0.1088 - val_acc: 0.9986\n",
      "Epoch 22/50\n",
      "800/800 [==============================] - 1s 739us/step - loss: 0.1158 - acc: 0.9986 - val_loss: 0.1068 - val_acc: 0.9987\n",
      "Epoch 23/50\n",
      "800/800 [==============================] - 1s 741us/step - loss: 0.1138 - acc: 0.9987 - val_loss: 0.1044 - val_acc: 0.9988\n",
      "Epoch 24/50\n",
      "800/800 [==============================] - 1s 740us/step - loss: 0.1122 - acc: 0.9987 - val_loss: 0.1035 - val_acc: 0.9987\n",
      "Epoch 25/50\n",
      "800/800 [==============================] - 1s 741us/step - loss: 0.1100 - acc: 0.9987 - val_loss: 0.1008 - val_acc: 0.9988\n",
      "Epoch 26/50\n",
      "800/800 [==============================] - 1s 742us/step - loss: 0.1080 - acc: 0.9987 - val_loss: 0.0992 - val_acc: 0.9988\n",
      "Epoch 27/50\n",
      "800/800 [==============================] - 1s 742us/step - loss: 0.1064 - acc: 0.9987 - val_loss: 0.0970 - val_acc: 0.9988\n",
      "Epoch 28/50\n",
      "800/800 [==============================] - 1s 738us/step - loss: 0.1042 - acc: 0.9988 - val_loss: 0.0951 - val_acc: 0.9989\n",
      "Epoch 29/50\n",
      "800/800 [==============================] - 1s 741us/step - loss: 0.1020 - acc: 0.9988 - val_loss: 0.0934 - val_acc: 0.9989\n",
      "Epoch 30/50\n",
      "800/800 [==============================] - 1s 741us/step - loss: 0.1001 - acc: 0.9988 - val_loss: 0.0913 - val_acc: 0.9989\n",
      "Epoch 31/50\n",
      "800/800 [==============================] - 1s 736us/step - loss: 0.0978 - acc: 0.9989 - val_loss: 0.0892 - val_acc: 0.9989\n",
      "Epoch 32/50\n",
      "800/800 [==============================] - 1s 742us/step - loss: 0.0958 - acc: 0.9989 - val_loss: 0.0873 - val_acc: 0.9990\n",
      "Epoch 33/50\n",
      "800/800 [==============================] - 1s 741us/step - loss: 0.0936 - acc: 0.9989 - val_loss: 0.0852 - val_acc: 0.9990\n",
      "Epoch 34/50\n",
      "800/800 [==============================] - 1s 741us/step - loss: 0.0914 - acc: 0.9989 - val_loss: 0.0830 - val_acc: 0.9990\n",
      "Epoch 35/50\n",
      "800/800 [==============================] - 1s 742us/step - loss: 0.0895 - acc: 0.9990 - val_loss: 0.0810 - val_acc: 0.9991\n",
      "Epoch 36/50\n",
      "800/800 [==============================] - 1s 741us/step - loss: 0.0871 - acc: 0.9990 - val_loss: 0.0789 - val_acc: 0.9990\n",
      "Epoch 37/50\n",
      "800/800 [==============================] - 1s 740us/step - loss: 0.0848 - acc: 0.9990 - val_loss: 0.0767 - val_acc: 0.9991\n",
      "Epoch 38/50\n",
      "800/800 [==============================] - 1s 742us/step - loss: 0.0826 - acc: 0.9991 - val_loss: 0.0759 - val_acc: 0.9990\n",
      "Epoch 39/50\n",
      "800/800 [==============================] - 1s 738us/step - loss: 0.0802 - acc: 0.9991 - val_loss: 0.0725 - val_acc: 0.9992\n",
      "Epoch 40/50\n",
      "800/800 [==============================] - 1s 741us/step - loss: 0.0783 - acc: 0.9991 - val_loss: 0.0704 - val_acc: 0.9992\n",
      "Epoch 41/50\n",
      "800/800 [==============================] - 1s 740us/step - loss: 0.0757 - acc: 0.9992 - val_loss: 0.0691 - val_acc: 0.9992\n",
      "Epoch 42/50\n",
      "800/800 [==============================] - 1s 742us/step - loss: 0.0736 - acc: 0.9992 - val_loss: 0.0662 - val_acc: 0.9992\n",
      "Epoch 43/50\n",
      "800/800 [==============================] - 1s 745us/step - loss: 0.0715 - acc: 0.9992 - val_loss: 0.0645 - val_acc: 0.9992\n",
      "Epoch 44/50\n",
      "800/800 [==============================] - 1s 740us/step - loss: 0.0693 - acc: 0.9992 - val_loss: 0.0628 - val_acc: 0.9992\n",
      "Epoch 45/50\n",
      "800/800 [==============================] - 1s 741us/step - loss: 0.0670 - acc: 0.9993 - val_loss: 0.0612 - val_acc: 0.9993\n",
      "Epoch 46/50\n",
      "800/800 [==============================] - 1s 741us/step - loss: 0.0653 - acc: 0.9993 - val_loss: 0.0588 - val_acc: 0.9993\n",
      "Epoch 47/50\n",
      "800/800 [==============================] - 1s 739us/step - loss: 0.0634 - acc: 0.9993 - val_loss: 0.0573 - val_acc: 0.9993\n",
      "Epoch 48/50\n",
      "800/800 [==============================] - 1s 743us/step - loss: 0.0625 - acc: 0.9993 - val_loss: 0.0557 - val_acc: 0.9994\n",
      "Epoch 49/50\n",
      "800/800 [==============================] - 1s 740us/step - loss: 0.0599 - acc: 0.9994 - val_loss: 0.0538 - val_acc: 0.9994\n",
      "Epoch 50/50\n",
      "800/800 [==============================] - 1s 738us/step - loss: 0.0581 - acc: 0.9994 - val_loss: 0.0523 - val_acc: 0.9994\n"
     ]
    },
    {
     "data": {
      "text/plain": [
       "<tensorflow.python.keras.callbacks.History at 0x2aab37ee3470>"
      ]
     },
     "execution_count": 15,
     "metadata": {},
     "output_type": "execute_result"
    }
   ],
   "source": [
    "# fit the model with our simulated data\n",
    "model.fit(train_x, train_y, \n",
    "        validation_data = (vali_x, vali_y),\n",
    "        epochs = 50)"
   ]
  },
  {
   "cell_type": "code",
   "execution_count": 18,
   "metadata": {},
   "outputs": [],
   "source": [
    "# Load an empirical image for testing!\n",
    "test_emp_image = np.load(f\"{EXP_DIR}/{EXP_DIR[11:]}_image_scaled.out\", allow_pickle = True)\n",
    "test_emp_image = np.reshape(test_emp_image,(1,64,64,1))"
   ]
  },
  {
   "cell_type": "code",
   "execution_count": 19,
   "metadata": {},
   "outputs": [
    {
     "data": {
      "text/plain": [
       "<matplotlib.image.AxesImage at 0x2aab381dc2b0>"
      ]
     },
     "execution_count": 19,
     "metadata": {},
     "output_type": "execute_result"
    },
    {
     "data": {
      "image/png": "[encoded data removed]",
      "text/plain": [
       "<Figure size 504x468 with 1 Axes>"
      ]
     },
     "metadata": {
      "needs_background": "light"
     },
     "output_type": "display_data"
    }
   ],
   "source": [
    "# Lets take a look at the empirical image\n",
    "# TODO : Take a look at the entire Image.\n",
    "fig, ax = plt.subplots(1, figsize=(7, 6.5))\n",
    "ax.imshow(np.squeeze(test_emp_image))"
   ]
  },
  {
   "cell_type": "code",
   "execution_count": 20,
   "metadata": {},
   "outputs": [],
   "source": [
    "# Finally, lets use our model trained on simulations to predict on the real thing!\n",
    "pred_emp = model.predict(test_emp_image)\n",
    "pred_sim = model.predict(test_x)"
   ]
  },
  {
   "cell_type": "code",
   "execution_count": 21,
   "metadata": {},
   "outputs": [
    {
     "data": {
      "text/plain": [
       "<matplotlib.image.AxesImage at 0x2aab387f65c0>"
      ]
     },
     "execution_count": 21,
     "metadata": {},
     "output_type": "execute_result"
    },
    {
     "data": {
      "image/png": "[encoded data removed]",
      "text/plain": [
       "<Figure size 504x468 with 1 Axes>"
      ]
     },
     "metadata": {
      "needs_background": "light"
     },
     "output_type": "display_data"
    }
   ],
   "source": [
    "# Lets take a look!\n",
    "fig, ax = plt.subplots(1, figsize=(7, 6.5))\n",
    "ax.imshow(np.squeeze(pred_emp))"
   ]
  },
  {
   "cell_type": "code",
   "execution_count": null,
   "metadata": {},
   "outputs": [],
   "source": []
  }
 ],
 "metadata": {
  "kernelspec": {
   "display_name": "Python 3",
   "language": "python",
   "name": "python3"
  },
  "language_info": {
   "codemirror_mode": {
    "name": "ipython",
    "version": 3
   },
   "file_extension": ".py",
   "mimetype": "text/x-python",
   "name": "python",
   "nbconvert_exporter": "python",
   "pygments_lexer": "ipython3",
   "version": "3.6.8"
  }
 },
 "nbformat": 4,
 "nbformat_minor": 4
}
